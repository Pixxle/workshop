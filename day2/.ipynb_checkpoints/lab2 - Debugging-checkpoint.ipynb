{
 "cells": [
  {
   "cell_type": "markdown",
   "metadata": {},
   "source": [
    "# Debugging"
   ]
  },
  {
   "cell_type": "markdown",
   "metadata": {},
   "source": [
    "Now that you know enough to write more complicated programs, you may start finding not-so-simple bugs in them. This chapter covers a tool for finding the root cause of bugs in your program to help you fix bugs faster and with less effort."
   ]
  },
  {
   "cell_type": "markdown",
   "metadata": {},
   "source": [
    "To paraphrase an old joke among programmers, “Writing code accounts for 90 percent of programming. Debugging code accounts for the other 90 percent.”"
   ]
  },
  {
   "cell_type": "markdown",
   "metadata": {},
   "source": [
    "Your computer will do only what you tell it to do; it won’t read your mind and do what you intended it to do. Even professional programmers create bugs all the time, so don’t feel discouraged if your program has a problem."
   ]
  },
  {
   "cell_type": "markdown",
   "metadata": {},
   "source": [
    "Fortunately, there are a few tools and techniques to identify what exactly your code is doing and where it’s going wrong."
   ]
  },
  {
   "cell_type": "markdown",
   "metadata": {},
   "source": [
    "## PDB - The Python Debugger"
   ]
  },
  {
   "cell_type": "markdown",
   "metadata": {},
   "source": [
    "There are few tools as handy as the python debugger, it lets you step through the code and see what it does at each step and figure out what is actually causing your program to behave unexpectedly. "
   ]
  },
  {
   "cell_type": "markdown",
   "metadata": {},
   "source": [
    "## Dice game example:"
   ]
  },
  {
   "cell_type": "markdown",
   "metadata": {},
   "source": [
    "Try playing the following die game. The purpose of the game is to correctly add the dice together. If you add them correctly together you win. Else the computer wins. Best of 3 rounds is the winner overall."
   ]
  },
  {
   "cell_type": "code",
   "execution_count": null,
   "metadata": {},
   "outputs": [],
   "source": [
    "import random\n",
    "\n",
    "def generate_random_list():\n",
    "    #Generates a list of 6 random numbers, and the sum of those numbers\n",
    "    numbers=[random.randint(1, 6) for _ in range(6)]\n",
    "    return (numbers, numbers[-1])\n",
    "\n",
    "def chunks(l, n):\n",
    "    #Gives a slice of a list l, n amount of elements at a time\n",
    "    for i in xrange(0, len(l), n):\n",
    "        yield l[i:i+n]\n",
    "        \n",
    "def print_dice(dice_nr):\n",
    "    #Prints a graphical version of the die number given to it.\n",
    "    \n",
    "    #Dice configurations\n",
    "    die = [\n",
    "        [0,0,0,0,1,0,0,0,0], #1\n",
    "        [1,0,0,0,0,0,0,0,1], #2\n",
    "        [1,0,0,0,1,0,0,0,1], #3\n",
    "        [1,0,1,0,0,0,1,0,1], #4\n",
    "        [1,0,1,0,1,0,1,0,1], #5\n",
    "        [1,0,1,1,0,1,1,0,1]  #6\n",
    "        ]\n",
    "    dice_config = die[dice_nr-1]\n",
    "    print \"-\"*7\n",
    "    for chunk in chunks(dice_config,3):\n",
    "        dice_string = \"| \"\n",
    "        dice_string += (\"*\" if chunk[0] == 1 else \" \")\n",
    "        dice_string += (\"*\" if chunk[1] == 1 else \" \")\n",
    "        dice_string += (\"*\" if chunk[2] == 1 else \" \")\n",
    "        dice_string += \" |\"\n",
    "        print dice_string\n",
    "    print \"-\"*7\n",
    "\n",
    "def guess(answer):\n",
    "    while True:\n",
    "        guess = raw_input(\"Sigh. What is your guess?: \")\n",
    "        try:\n",
    "            guess = int(guess)\n",
    "            if guess == answer:\n",
    "                print(\"Congratulations.. You got it right.\")\n",
    "                return True\n",
    "            else:\n",
    "                print(\"How could you not even... The answer is {answer}\".format(answer=answer))\n",
    "                return False\n",
    "        except:\n",
    "            print \"How.. did you not learn to count in school? It has to be a number\"\n",
    " \n",
    "\n",
    "\n",
    "score = {\"computer\":0, \"human\":0}\n",
    "for x in range(3):\n",
    "    print \"The current score is: Computer: {computer}, Human: {human}\".format(computer=score[\"computer\"], human=score[\"human\"])\n",
    "    numbers, correct_answer = generate_random_list()\n",
    "    [print_dice(x) for x in numbers]\n",
    "    if guess(correct_answer):\n",
    "        score[\"human\"] += 1\n",
    "    else:\n",
    "        score[\"computer\"] += 1\n",
    "\n",
    "print \"The final score is: Computer: {computer}, Human: {human}\".format(computer=score[\"computer\"], human=score[\"human\"])\n",
    "if score[\"computer\"] > score[\"human\"]:\n",
    "    print \"Looks like i win.\"\n",
    "else:\n",
    "    print \"You win. Woho.\""
   ]
  },
  {
   "cell_type": "markdown",
   "metadata": {},
   "source": [
    "As you might've noticed the answer the computer thinks is correct is actually wrong. Let's try to find the issue with the python debugger. To use the python debugger we must first `import` it. The python debugger is included in a module called `pdb`. The module PDB comes with a function called `set_trace` that allows you to stop the code execution and look at whats going on. <br>\n",
    "\n",
    "When you are using pdb you can write normal python code to interact with your executing code; For example to print the content of a variable\n",
    "\n",
    "## PDB COMMANDS\n",
    "1. l(ist) - Displays 11 lines around the current line or continue the previous listing.\n",
    "2. s(tep) - Execute the current line, stop at the first possible occasion.\n",
    "3. n(ext) - Continue execution until the next line in the current function is reached or it returns.\n",
    "4. b(reak) - Set a breakpoint (depending on the argument provided).\n",
    "5. r(eturn) - Continue execution until the current function returns.\n",
    "\n",
    "\n",
    "Lets try it out:"
   ]
  },
  {
   "cell_type": "code",
   "execution_count": null,
   "metadata": {},
   "outputs": [],
   "source": [
    "import random\n",
    "\n",
    "def generate_random_list():\n",
    "    #Generates a list of 6 random numbers, and the sum of those numbers\n",
    "    numbers=[random.randint(1, 6) for _ in range(6)]\n",
    "    return (numbers, numbers[-1])\n",
    "\n",
    "def chunks(l, n):\n",
    "    #Gives a slice of a list l, n amount of elements at a time\n",
    "    for i in xrange(0, len(l), n):\n",
    "        yield l[i:i+n]\n",
    "        \n",
    "def print_dice(dice_nr):\n",
    "    #Prints a graphical version of the die number given to it.\n",
    "    \n",
    "    #Dice configurations\n",
    "    die = [\n",
    "        [0,0,0,0,1,0,0,0,0], #1\n",
    "        [1,0,0,0,0,0,0,0,1], #2\n",
    "        [1,0,0,0,1,0,0,0,1], #3\n",
    "        [1,0,1,0,0,0,1,0,1], #4\n",
    "        [1,0,1,0,1,0,1,0,1], #5\n",
    "        [1,0,1,1,0,1,1,0,1]  #6\n",
    "        ]\n",
    "    dice_config = die[dice_nr-1]\n",
    "    print \"-\"*7\n",
    "    for chunk in chunks(dice_config,3):\n",
    "        dice_string = \"| \"\n",
    "        dice_string += (\"*\" if chunk[0] == 1 else \" \")\n",
    "        dice_string += (\"*\" if chunk[1] == 1 else \" \")\n",
    "        dice_string += (\"*\" if chunk[2] == 1 else \" \")\n",
    "        dice_string += \" |\"\n",
    "        print dice_string\n",
    "    print \"-\"*7\n",
    "\n",
    "def guess(answer):\n",
    "    while True:\n",
    "        guess = raw_input(\"Sigh. What is your guess?: \")\n",
    "        try:\n",
    "            guess = int(guess)\n",
    "            if guess == answer:\n",
    "                print(\"Congratulations.. You got it right.\")\n",
    "                return True\n",
    "            else:\n",
    "                print(\"How could you not even... The answer is {answer}\".format(answer=answer))\n",
    "                return False\n",
    "        except:\n",
    "            print \"How.. did you not learn to count in school? It has to be a number\"\n",
    "\n",
    "score = {\"computer\":0, \"human\":0}\n",
    "for x in range(3):\n",
    "    # lets start debugging from here--------------------\n",
    "    import pdb; pdb.set_trace() \n",
    "    print \"The current score is: Computer: {computer}, Human: {human}\".format(computer=score[\"computer\"], human=score[\"human\"])\n",
    "    numbers, correct_answer = generate_random_list()\n",
    "    [print_dice(x) for x in numbers]\n",
    "    if guess(correct_answer):\n",
    "        score[\"human\"] += 1\n",
    "    else:\n",
    "        score[\"computer\"] += 1\n",
    "\n",
    "print \"The final score is: Computer: {computer}, Human: {human}\".format(computer=score[\"computer\"], human=score[\"human\"])\n",
    "if score[\"computer\"] > score[\"human\"]:\n",
    "    print \"Looks like i win.\"\n",
    "else:\n",
    "    print \"You win. Woho.\""
   ]
  },
  {
   "cell_type": "markdown",
   "metadata": {},
   "source": [
    "## PDB COMMANDS\n",
    "1. l(ist) - Displays 11 lines around the current line or continue the previous listing.\n",
    "2. s(tep) - Execute the current line, stop at the first possible occasion.\n",
    "3. n(ext) - Continue execution until the next line in the current function is reached or it returns.\n",
    "4. b(reak) - Set a breakpoint (depending on the argument provided).\n",
    "5. r(eturn) - Continue execution until the current function returns."
   ]
  },
  {
   "cell_type": "markdown",
   "metadata": {},
   "source": [
    "In the above example you can see that the in the line<br>\n",
    "`numbers, correct_answer = generate_random_list()`\n",
    "correct_answers has the wrong value. It's not the sum of numbers, it's the last element in the list of numbers! Lets fix that!"
   ]
  },
  {
   "cell_type": "code",
   "execution_count": null,
   "metadata": {},
   "outputs": [],
   "source": [
    "import random\n",
    "\n",
    "def generate_random_list():\n",
    "    numbers=[random.randint(1, 6) for _ in range(6)]\n",
    "    \n",
    "    # We changed this from numbers[-1] to sum(numbers)\n",
    "    return (numbers, sum(numbers))\n",
    "\n",
    "def chunks(l, n):\n",
    "    for i in xrange(0, len(l), n):\n",
    "        yield l[i:i+n]\n",
    "        \n",
    "def print_dice(dice_nr):\n",
    "    die = [\n",
    "        [0,0,0,0,1,0,0,0,0], #1\n",
    "        [1,0,0,0,0,0,0,0,1], #2\n",
    "        [1,0,0,0,1,0,0,0,1], #3\n",
    "        [1,0,1,0,0,0,1,0,1], #4\n",
    "        [1,0,1,0,1,0,1,0,1], #5\n",
    "        [1,0,1,1,0,1,1,0,1]  #6\n",
    "        ]\n",
    "    dice_config = die[dice_nr-1]\n",
    "    print \"-\"*7\n",
    "    for chunk in chunks(dice_config,3):\n",
    "        dice_string = \"| \"\n",
    "        dice_string += (\"*\" if chunk[0] == 1 else \" \")\n",
    "        dice_string += (\"*\" if chunk[1] == 1 else \" \")\n",
    "        dice_string += (\"*\" if chunk[2] == 1 else \" \")\n",
    "        dice_string += \" |\"\n",
    "        print dice_string\n",
    "    print \"-\"*7\n",
    "\n",
    "def guess(answer):\n",
    "    while True:\n",
    "        guess = raw_input(\"Sigh. What is your guess?: \")\n",
    "        try:\n",
    "            guess = int(guess)\n",
    "            if guess == answer:\n",
    "                print(\"Congratulations.. You got it right.\")\n",
    "                return True\n",
    "            else:\n",
    "                print(\"How could you not even... The answer is {answer}\".format(answer=answer))\n",
    "                return False\n",
    "        except:\n",
    "            print \"How.. did you not learn to count in school? It has to be a number\"\n",
    "\n",
    "score = {\"computer\":0, \"human\":0}\n",
    "for x in range(3):\n",
    "    import pdb; pdb.set_trace() # lets start from here.\n",
    "    print \"The current score is: Computer: {computer}, Human: {human}\".format(computer=score[\"computer\"], human=score[\"human\"])\n",
    "    numbers, correct_answer = generate_random_list()\n",
    "    [print_dice(x) for x in numbers]\n",
    "    if guess(correct_answer):\n",
    "        score[\"human\"] += 1\n",
    "    else:\n",
    "        score[\"computer\"] += 1\n",
    "\n",
    "print \"The final score is: Computer: {computer}, Human: {human}\".format(computer=score[\"computer\"], human=score[\"human\"])\n",
    "if score[\"computer\"] > score[\"human\"]:\n",
    "    print \"Looks like i win.\"\n",
    "else:\n",
    "    print \"You win. Woho.\""
   ]
  },
  {
   "cell_type": "markdown",
   "metadata": {},
   "source": [
    "The Python debugger is a invaluable tool and will save you a lot of time trying to when you are trying to find problems."
   ]
  },
  {
   "cell_type": "code",
   "execution_count": null,
   "metadata": {},
   "outputs": [],
   "source": []
  }
 ],
 "metadata": {
  "kernelspec": {
   "display_name": "Python 2",
   "language": "python",
   "name": "python2"
  },
  "language_info": {
   "codemirror_mode": {
    "name": "ipython",
    "version": 2
   },
   "file_extension": ".py",
   "mimetype": "text/x-python",
   "name": "python",
   "nbconvert_exporter": "python",
   "pygments_lexer": "ipython2",
   "version": "2.7.14"
  }
 },
 "nbformat": 4,
 "nbformat_minor": 2
}
