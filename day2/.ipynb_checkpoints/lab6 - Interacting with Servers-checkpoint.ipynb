{
 "cells": [
  {
   "cell_type": "markdown",
   "metadata": {},
   "source": [
    "# Interact with servers"
   ]
  },
  {
   "cell_type": "markdown",
   "metadata": {},
   "source": [
    "Sometimes you need to interact with something that doesn't provide much of a API or interface at all. Such as servers, some routers and switches. In most cases there are other technologies better suited for this, such as Ansible. But in those cases where you only need to write something quick and get the result back, pexpect is perfect."
   ]
  },
  {
   "cell_type": "markdown",
   "metadata": {},
   "source": [
    "# Pexpect"
   ]
  },
  {
   "cell_type": "markdown",
   "metadata": {},
   "source": [
    "Example of pexpect in action: "
   ]
  },
  {
   "cell_type": "code",
   "execution_count": null,
   "metadata": {
    "scrolled": true
   },
   "outputs": [],
   "source": [
    "import pexpect\n",
    "child = pexpect.spawn('ftp speedtest.tele2.net')\n",
    "child.expect('Name .*: ')\n",
    "child.sendline('anonymous')\n",
    "child.expect('Password:')\n",
    "child.sendline('anonymous')\n",
    "child.expect('ftp> ')\n",
    "child.sendline('get 512KB.zip')\n",
    "child.expect('ftp> ')\n",
    "child.sendline('bye')"
   ]
  },
  {
   "cell_type": "markdown",
   "metadata": {},
   "source": [
    "We spawn start by Spawning a new Pexpect session and execute our intial command, in this case connection to Tele2s public speedtest server using `ftp speedtest.tele2.net`. <br>\n",
    "1. We wait for the username prompt and when we see it send the username. \n",
    "2. We wait for the password prompt and when we see it send the password. \n",
    "3. We wait for the `ftp> ` which indicates that we've successfully started a interactive session towards the sftp server. \n",
    "4. We download the 512KB zip file, we know it's done when we see the `ftp> ` text again. \n",
    "5. Exit out."
   ]
  },
  {
   "cell_type": "markdown",
   "metadata": {},
   "source": [
    "Obviously you could write an ftp client using Python’s own ftplib module, but this is just a demonstration. "
   ]
  },
  {
   "cell_type": "markdown",
   "metadata": {},
   "source": [
    "There are two important methods in Pexpect – `expect()` and `send()` (or `sendline()` which is like `send()` with a linefeed). The `expect()` method waits for the child application to return a given string. The string you specify is a regular expression, so you can match complicated patterns. The `send()` method writes a string to the child application. From the child’s point of view it looks just like someone typed the text from a terminal. After each call to `expect()` the before and after properties will be set to the text printed by child application. The before property will contain all text up to the expected string pattern. The after string will contain the text that was matched by the expected pattern. We can also fetch all the information before we reached a pattern as well with `before`."
   ]
  },
  {
   "cell_type": "markdown",
   "metadata": {},
   "source": [
    "Since the `expect()` method uses regexp we can define more complicated patterns and logic:"
   ]
  },
  {
   "cell_type": "code",
   "execution_count": null,
   "metadata": {
    "scrolled": true
   },
   "outputs": [],
   "source": [
    "import pexpect\n",
    "child = pexpect.spawn('ftp speedtest.tele2.net')\n",
    "child.expect('Name .*: ')\n",
    "child.sendline('notright')\n",
    "i = child.expect(['Login failed.', 'Password:'])\n",
    "if i == 0:\n",
    "    print \"Login failed.\"\n",
    "    print child.before # This command lets us fetch what the server responded back to us\n",
    "    child.sendline('bye')\n",
    "else:\n",
    "    print \"Login successful\"\n",
    "    child.sendline('notright')\n",
    "    child.expect('ftp> ')\n",
    "    child.sendline('get 512KB.zip')\n",
    "    child.expect('ftp> ')\n",
    "    child.sendline('bye')"
   ]
  },
  {
   "cell_type": "markdown",
   "metadata": {},
   "source": [
    "<b>Task 1:</b> Connect to my server with ssh and fetch the load average information for that server with `uptime` command.<br>\n",
    "Uptime returns information in this format:<br>\n",
    "`17:59:00 up 13 days,  5:25,  2 users,  load average: 0.00, 0.00, 0.00`<br>\n",
    "Terminal default prompt ends in `$`"
   ]
  },
  {
   "cell_type": "code",
   "execution_count": 1,
   "metadata": {
    "scrolled": true
   },
   "outputs": [],
   "source": [
    "#Insert code here"
   ]
  }
 ],
 "metadata": {
  "kernelspec": {
   "display_name": "Python 2",
   "language": "python",
   "name": "python2"
  },
  "language_info": {
   "codemirror_mode": {
    "name": "ipython",
    "version": 2
   },
   "file_extension": ".py",
   "mimetype": "text/x-python",
   "name": "python",
   "nbconvert_exporter": "python",
   "pygments_lexer": "ipython2",
   "version": "2.7.14"
  }
 },
 "nbformat": 4,
 "nbformat_minor": 2
}
