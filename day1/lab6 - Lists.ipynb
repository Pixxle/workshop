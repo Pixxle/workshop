{
 "cells": [
  {
   "cell_type": "markdown",
   "metadata": {},
   "source": [
    "# The List Data Type"
   ]
  },
  {
   "cell_type": "markdown",
   "metadata": {},
   "source": [
    "A list is a value that contains multiple values in an ordered sequence. The term list value refers to the list itself (which is a value that can be stored in a variable or passed to a function like any other value), not the values inside the list value. A list value looks like this: `['cat', 'bat', 'rat', 'elephant']`. Just as string values are typed with quote characters to mark where the string begins and ends, a list begins with an opening square bracket and ends with a closing square bracket, []. Values inside the list are also called items. Items are separated with commas (that is, they are comma-delimited). <br> For example: \n"
   ]
  },
  {
   "cell_type": "code",
   "execution_count": null,
   "metadata": {},
   "outputs": [],
   "source": [
    "print [1, 2, 3]\n",
    "print ['cat', 'bat', 'rat', 'elephant']"
   ]
  },
  {
   "cell_type": "markdown",
   "metadata": {},
   "source": [
    "## Getting Individual Values in a List with Indexes"
   ]
  },
  {
   "cell_type": "markdown",
   "metadata": {},
   "source": [
    "Just like we previously accessed individual characters in a string with `string[index]` we can also access individual elements of a list with `list[index]`."
   ]
  },
  {
   "cell_type": "code",
   "execution_count": null,
   "metadata": {},
   "outputs": [],
   "source": [
    "my_list = ['cat', 'bat', 'rat', 'elephant']\n",
    "print my_list[2]"
   ]
  },
  {
   "cell_type": "markdown",
   "metadata": {},
   "source": [
    "## Negative Indexes"
   ]
  },
  {
   "cell_type": "markdown",
   "metadata": {},
   "source": [
    "While indexes start at 0 and go up, you can also use negative integers for the index. The integer value -1 refers to the last index in a list, the value -2 refers to the second-to-last index in a list, and so on. <br>\n",
    "Example:"
   ]
  },
  {
   "cell_type": "code",
   "execution_count": null,
   "metadata": {},
   "outputs": [],
   "source": [
    "my_list = ['cat', 'bat', 'rat', 'elephant']\n",
    "print my_list[-1]"
   ]
  },
  {
   "cell_type": "markdown",
   "metadata": {},
   "source": [
    "## Getting Sublists with Slices"
   ]
  },
  {
   "cell_type": "markdown",
   "metadata": {},
   "source": [
    "Just as an index can get a single value from a list, a slice can get several values from a list, in the form of a new list. A slice is typed between square brackets, like an index, but it has two integers separated by a colon. Notice the difference between indexes and slices:"
   ]
  },
  {
   "cell_type": "code",
   "execution_count": null,
   "metadata": {},
   "outputs": [],
   "source": [
    "my_list = ['cat', 'bat', 'rat', 'elephant']\n",
    "print my_list[2]\n",
    "print my_list[1:3]"
   ]
  },
  {
   "cell_type": "markdown",
   "metadata": {},
   "source": [
    "As a shortcut, you can leave out one or both of the indexes on either side of the colon in the slice. Leaving out the first index is the same as using 0, or the beginning of the list. Leaving out the second index is the same as using the length of the list, which will slice to the end of the list. <br>\n",
    "Example:"
   ]
  },
  {
   "cell_type": "code",
   "execution_count": 3,
   "metadata": {},
   "outputs": [
    {
     "name": "stdout",
     "output_type": "stream",
     "text": [
      "['cat', 'bat']\n",
      "['bat', 'rat', 'elephant']\n",
      "['cat', 'bat', 'rat', 'elephant']\n"
     ]
    }
   ],
   "source": [
    "my_list = ['cat', 'bat', 'rat', 'elephant']\n",
    "print my_list[:2]\n",
    "print my_list[1:]\n",
    "print my_list[:]"
   ]
  },
  {
   "cell_type": "markdown",
   "metadata": {},
   "source": [
    "## Getting a List’s Length with len()"
   ]
  },
  {
   "cell_type": "markdown",
   "metadata": {},
   "source": [
    "The len() function will return the number of values that are in a list value passed to it, just like it can count the number of characters in a string value. <br>\n",
    "Example:"
   ]
  },
  {
   "cell_type": "code",
   "execution_count": null,
   "metadata": {},
   "outputs": [],
   "source": [
    "my_list = ['cat', 'dog', 'moose']\n",
    "print len(my_list)"
   ]
  },
  {
   "cell_type": "markdown",
   "metadata": {},
   "source": [
    "## Changing Values in a List with Indexes"
   ]
  },
  {
   "cell_type": "markdown",
   "metadata": {},
   "source": [
    "Normally a variable name goes on the left side of an assignment statement, like `spam = 42`. However, you can also use an index of a list to change the value at that index. For example, `spam[1] = 'aardvark'` means “Assign the value at index 1 in the list spam to the string 'aardvark'.” <br>\n",
    "Example:"
   ]
  },
  {
   "cell_type": "code",
   "execution_count": null,
   "metadata": {},
   "outputs": [],
   "source": [
    "my_list = ['cat', 'bat', 'rat', 'elephant']\n",
    "my_list[1] = 'aardvark'\n",
    "print my_list"
   ]
  },
  {
   "cell_type": "markdown",
   "metadata": {},
   "source": [
    "## List Concatenation and List Replication"
   ]
  },
  {
   "cell_type": "markdown",
   "metadata": {},
   "source": [
    "The + operator can combine two lists to create a new list value in the same way it combines two strings into a new string value. The * operator can also be used with a list and an integer value to replicate the list. <br>\n",
    "Example:"
   ]
  },
  {
   "cell_type": "code",
   "execution_count": 4,
   "metadata": {},
   "outputs": [
    {
     "name": "stdout",
     "output_type": "stream",
     "text": [
      "[1, 2, 3, 'A', 'B', 'C']\n",
      "['X', 'Y', 'Z', 'X', 'Y', 'Z', 'X', 'Y', 'Z']\n"
     ]
    }
   ],
   "source": [
    "my_list = [1, 2, 3] + ['A', 'B', 'C']\n",
    "print my_list\n",
    "my_list = ['X', 'Y', 'Z'] * 3\n",
    "print my_list"
   ]
  },
  {
   "cell_type": "markdown",
   "metadata": {},
   "source": [
    "## Removing Values from Lists with del Statements"
   ]
  },
  {
   "cell_type": "markdown",
   "metadata": {},
   "source": [
    "The del statement will delete values at an index in a list. All of the values in the list after the deleted value will be moved up one index. <br>\n",
    "Example:"
   ]
  },
  {
   "cell_type": "code",
   "execution_count": null,
   "metadata": {},
   "outputs": [],
   "source": [
    "my_list = ['cat', 'bat', 'rat', 'elephant']\n",
    "del my_list[2]\n",
    "print my_list"
   ]
  },
  {
   "cell_type": "markdown",
   "metadata": {},
   "source": [
    "The del statement can also be used on a simple variable to delete it, as if it were an “unassignment” statement. If you try to use the variable after deleting it, you will get a NameError error because the variable no longer exists.\n",
    "\n",
    "In practice, you almost never need to delete simple variables. The del statement is mostly used to delete values from lists."
   ]
  },
  {
   "cell_type": "markdown",
   "metadata": {},
   "source": [
    "# Working with Lists"
   ]
  },
  {
   "cell_type": "markdown",
   "metadata": {},
   "source": [
    "When you first begin writing programs, it’s tempting to create many individual variables to store a group of similar values. For example, if I wanted to store the names of my cats, I might be tempted to write code like this:\n",
    "\n",
    "\n",
    "`catName1 = 'Zophie'\n",
    "catName2 = 'Pooka'\n",
    "catName3 = 'Simon'\n",
    "catName4 = 'Lady Macbeth'\n",
    "catName5 = 'Fat-tail'\n",
    "catName6 = 'Miss Cleo'`\n",
    "\n",
    "It turns out that this is a bad way to write code. For one thing, if the number of cats changes, your program will never be able to store more cats than you have variables. These types of programs also have a lot of duplicate or nearly identical code in them.\n",
    "\n",
    "Instead of using multiple, repetitive variables, you can use a single variable that contains a list value.<br>\n",
    "Example:"
   ]
  },
  {
   "cell_type": "code",
   "execution_count": 5,
   "metadata": {},
   "outputs": [
    {
     "name": "stdout",
     "output_type": "stream",
     "text": [
      "['Zophie', 'Pooka', 'Simon', 'Lady Macbeth', 'Fat-tail', 'Miss Cleo']\n"
     ]
    }
   ],
   "source": [
    "catNames = [\n",
    "    'Zophie',\n",
    "    'Pooka',\n",
    "    'Simon',\n",
    "    'Lady Macbeth',\n",
    "    'Fat-tail',\n",
    "    'Miss Cleo'\n",
    "]\n",
    "print catNames"
   ]
  },
  {
   "cell_type": "markdown",
   "metadata": {},
   "source": [
    "Now if we want to add new cat names we only need to append to the list. <br>\n",
    "Example:"
   ]
  },
  {
   "cell_type": "code",
   "execution_count": 6,
   "metadata": {},
   "outputs": [
    {
     "name": "stdout",
     "output_type": "stream",
     "text": [
      "['Zophie', 'Pooka', 'Simon', 'Lady Macbeth', 'Fat-tail', 'Miss Cleo']\n",
      "['Zophie', 'Pooka', 'Simon', 'Lady Macbeth', 'Fat-tail', 'Miss Cleo', 'Eddie', 'Shiro']\n"
     ]
    }
   ],
   "source": [
    "catNames = [\n",
    "    'Zophie',\n",
    "    'Pooka',\n",
    "    'Simon',\n",
    "    'Lady Macbeth',\n",
    "    'Fat-tail',\n",
    "    'Miss Cleo'\n",
    "]\n",
    "print catNames\n",
    "catNames.append('Eddie')\n",
    "catNames.append('Shiro')\n",
    "print catNames"
   ]
  },
  {
   "cell_type": "markdown",
   "metadata": {},
   "source": [
    "<b>Task 1:</b> Write a Python program to sum all the items in my_list."
   ]
  },
  {
   "cell_type": "code",
   "execution_count": 8,
   "metadata": {},
   "outputs": [],
   "source": [
    "my_list = [1,100,20,30,12,3,8]\n",
    "# Insert code here\n"
   ]
  },
  {
   "cell_type": "markdown",
   "metadata": {},
   "source": [
    "<b>Task 2:</b> Write a Python program to get the largest number from my_list."
   ]
  },
  {
   "cell_type": "code",
   "execution_count": 9,
   "metadata": {},
   "outputs": [],
   "source": [
    "my_list = [1,1,2,4,20,7,99,5]\n",
    "# Insert code here\n"
   ]
  },
  {
   "cell_type": "markdown",
   "metadata": {},
   "source": [
    "<b>Task 3:</b> Write a Python program to count the number of strings where the string length is 2 or more and the first and last character are same from my_list."
   ]
  },
  {
   "cell_type": "code",
   "execution_count": 10,
   "metadata": {},
   "outputs": [],
   "source": [
    "my_list = ['abc', 'xyz', 'aba', '1221','aa']\n",
    "# Insert code here\n"
   ]
  }
 ],
 "metadata": {
  "kernelspec": {
   "display_name": "Python 2",
   "language": "python",
   "name": "python2"
  },
  "language_info": {
   "codemirror_mode": {
    "name": "ipython",
    "version": 2
   },
   "file_extension": ".py",
   "mimetype": "text/x-python",
   "name": "python",
   "nbconvert_exporter": "python",
   "pygments_lexer": "ipython2",
   "version": "2.7.14"
  }
 },
 "nbformat": 4,
 "nbformat_minor": 2
}
