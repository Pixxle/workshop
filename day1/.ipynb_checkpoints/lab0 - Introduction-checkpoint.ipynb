{
 "cells": [
  {
   "cell_type": "markdown",
   "metadata": {},
   "source": [
    "# Welcome to Making life less boring with python\n",
    "This is a workshop that will focus on teaching you some automation with Python. We will start slow with the absolut basics of python and programming and rapidly move forward to more advanced techniques.  "
   ]
  },
  {
   "cell_type": "markdown",
   "metadata": {},
   "source": [
    "## Agenda day 1\n",
    "* 09.00 - 09.30 Introductions\n",
    "* 09.30 - 10.30 Interactive shell and python basics\n",
    "* 10.30 - 10.45 Break\n",
    "* 10.45 - 12.00 Flow control\n",
    "* 12.00 - 13.00 Lunch\n",
    "* 13.00 - 14.00 Functions\n",
    "* 14.00 - 14.30 Lists\n",
    "* 14.30 - 15.15 Dictionaries and structured data\n",
    "* 15.15 - 15.30 Break\n",
    "* 15.30 - 17.00 Pattern matching with regular expression"
   ]
  },
  {
   "cell_type": "markdown",
   "metadata": {},
   "source": [
    "## Agenda day 2\n",
    "* 09.00 - 09.30 Reading and writing to files\n",
    "* 09.30 - 10.15 Debugging\n",
    "* 10.15 - 10.30 Break\n",
    "* 10.30 - 12.00 Web scraping\n",
    "* 12.00 - 13.00 Lunch\n",
    "* 13.00 - 14.30 Working with spreadsheets\n",
    "* 14.30 - 14.45 Break\n",
    "* 14.45 - 16.00 Working with CSV, JSON and API's\n",
    "* 16.00 - 16.30 Interacting with servers\n",
    "* 16.30 - 17.00 Outro"
   ]
  },
  {
   "cell_type": "markdown",
   "metadata": {},
   "source": [
    "# Interactive python\n",
    "This workshop will use Jupyter notebook for a interactive python shell instead of running it in a terminal.\n",
    "To learn more about how to run python in your native environment, visit: https://www.python.org/\n",
    "\n",
    "Each section of this workshop will contain <b>Tasks</b> for you to perform. There will be cells marked with:"
   ]
  },
  {
   "cell_type": "code",
   "execution_count": null,
   "metadata": {},
   "outputs": [],
   "source": [
    "#Insert your code here\n"
   ]
  },
  {
   "cell_type": "markdown",
   "metadata": {},
   "source": [
    "After writing the code in a cell you can run that cell and get a output by marking the cell and pressing the \"Run\" button in the top bar. \n",
    "\n",
    "Please try it out by running the following code:"
   ]
  },
  {
   "cell_type": "code",
   "execution_count": null,
   "metadata": {},
   "outputs": [],
   "source": [
    "print \"Welcome to the Making life less boring with Python workshop\""
   ]
  }
 ],
 "metadata": {
  "kernelspec": {
   "display_name": "Python 2",
   "language": "python",
   "name": "python2"
  },
  "language_info": {
   "codemirror_mode": {
    "name": "ipython",
    "version": 2
   },
   "file_extension": ".py",
   "mimetype": "text/x-python",
   "name": "python",
   "nbconvert_exporter": "python",
   "pygments_lexer": "ipython2",
   "version": "2.7.14"
  }
 },
 "nbformat": 4,
 "nbformat_minor": 2
}
