{
 "cells": [
  {
   "cell_type": "markdown",
   "metadata": {},
   "source": [
    "# Functions"
   ]
  },
  {
   "cell_type": "markdown",
   "metadata": {},
   "source": [
    "Consider the following problem. We are writing a program that:<br> \n",
    "* Asks the user for the name of a location.\n",
    "* Asks for the temperature of that place in Celcius.\n",
    "* Converts the temperature to Fahrenheit\n",
    "* Asks for another location \n",
    "* Asks for temperature in Celcius of that place. \n",
    "* Converts the temperature to Farenheit\n",
    "* Prints both location names and temperatures in Fahrenheit. \n",
    "\n",
    "The mathematics for converting Celcius to Farenheit looks like this:<br>\n",
    "`(celcius * 9 / 5) + 32`\n",
    "\n",
    "The program would then look like this:"
   ]
  },
  {
   "cell_type": "code",
   "execution_count": null,
   "metadata": {},
   "outputs": [],
   "source": [
    "location1 = raw_input('Name a location: ')\n",
    "celcius1 = raw_input('Temperature in celcius: ')\n",
    "fahrenheit1 = (int(celcius1) * 9 / 5) + 32\n",
    "\n",
    "location2 = raw_input('Name a location: ')\n",
    "celcius2 = raw_input('Temperature in celcius: ')\n",
    "fahrenheit2 = (int(celcius2) * 9 / 5) + 32\n",
    "\n",
    "print \"Location: \" + location1 + \" Temperature in F: \" + str(fahrenheit1)\n",
    "print \"Location: \" + location2 + \" Temperature in F: \" + str(fahrenheit2) "
   ]
  },
  {
   "cell_type": "markdown",
   "metadata": {},
   "source": [
    "If we look at the above code we are constantly repeating the same things, if we wanted to do this a couple of more times this would become a time consuming and boring. A better way to handle this kind of scenario would be with one or more functions instead. <br> So what is a function?"
   ]
  },
  {
   "cell_type": "markdown",
   "metadata": {},
   "source": [
    "A function is a block of organized, reusable code that is used to perform a single, related action. Functions provide better modularity for your application and a high degree of code reusing.<br>\n",
    "\n",
    "As you already know, Python gives you many built-in functions like `print()`, etc. but you can also create your own functions. These functions are called user-defined functions.<br>\n",
    "\n",
    "The syntax of a function declaration is this:<br>\n",
    "`def functionName( parameters ):\n",
    "    function_body\n",
    "    return parameter\n",
    "`\n",
    "\n",
    "The Python keyword `def` is how we tell our program that we would like to create a function. <br>\n",
    "Following the `def` keyword is the name of the function, this is how we later reference the function.<br>\n",
    "The `parameters` are all the variables we want the function receive when the function is called. <br>\n",
    "If we define one or more parameters in our function: `def functionName( parameter1, parameter2):` it's important to remember that we must provide the function with those parameters when we call the function or the program will crash<br>\n",
    "<br>\n",
    "There is a way for us to define \"optional\" parameters to a function as well:<br>\n",
    "`def functionName( parameter='Hello'):\n",
    "    function_body\n",
    "    return parameter\n",
    "`<br>\n",
    "This way we can choose to pass a parameter to the function if we want too. When we pass the parameter to the above function we are essentially overwriting the default value of 'Hello'<br>\n",
    "\n",
    "The function_body is where we write all the code of the function. <br>\n",
    "And the last and final part of a function is `return`. <br>\n",
    "The `return` keyword lets the function define one or more results that should be returned to the caller.\n",
    "\n",
    "\n",
    "So lets try to rewrite the Celcius to Fahrenheit code again\n"
   ]
  },
  {
   "cell_type": "code",
   "execution_count": null,
   "metadata": {},
   "outputs": [],
   "source": [
    "# First rewrite of code\n",
    "def celcius_to_fahrenheit(celcius):\n",
    "    fahrenheit = (int(celcius) * 9 / 5) + 32\n",
    "    return fahrenheit\n",
    "    \n",
    "location1 = raw_input('Name a location: ')\n",
    "celcius1 = raw_input('Temperature in celcius: ')\n",
    "fahrenheit1 = celcius_to_fahrenheit(celcius1)\n",
    "\n",
    "location2 = raw_input('Name a location: ')\n",
    "celcius2 = raw_input('Temperature in celcius: ')\n",
    "fahrenheit2 = celcius_to_fahrenheit(celcius2)\n",
    "\n",
    "print \"Location: \" + location1 + \" Temperature in F: \" + str(fahrenheit1)\n",
    "print \"Location: \" + location2 + \" Temperature in F: \" + str(fahrenheit2) "
   ]
  },
  {
   "cell_type": "code",
   "execution_count": null,
   "metadata": {},
   "outputs": [],
   "source": [
    "# Second rewrite of the code\n",
    "def celcius_to_fahrenheit(celcius):\n",
    "    fahrenheit = (int(celcius) * 9 / 5) + 32\n",
    "    return fahrenheit\n",
    "\n",
    "def ask_for_temperature_input():\n",
    "    location = raw_input('Name a location: ')\n",
    "    celcius = raw_input('Temperature in celcius: ')\n",
    "    \n",
    "    #We can call functions from inside other functions\n",
    "    fahrenheit = celcius_to_fahrenheit(celcius)\n",
    "    \n",
    "    #We can return multiple values like this\n",
    "    return (location, fahrenheit)\n",
    "\n",
    "location1, fahrenheit1 = ask_for_temperature_input()\n",
    "location2, fahrenheit2 = ask_for_temperature_input()\n",
    "print \"Location: \" + location1 + \" Temperature in F: \" + str(fahrenheit1)\n",
    "print \"Location: \" + location2 + \" Temperature in F: \" + str(fahrenheit2) "
   ]
  },
  {
   "cell_type": "code",
   "execution_count": null,
   "metadata": {},
   "outputs": [],
   "source": [
    "# Third rewrite\n",
    "def celcius_to_fahrenheit(celcius):\n",
    "    fahrenheit = (int(celcius) * 9 / 5) + 32\n",
    "    return fahrenheit\n",
    "\n",
    "def ask_for_temperature_input():\n",
    "    location = raw_input('Name a location: ')\n",
    "    celcius = raw_input('Temperature in celcius: ')\n",
    "    fahrenheit = celcius_to_fahrenheit(celcius)\n",
    "    \n",
    "    information = \"Location: \" + location + \" Temperature in F: \" + str(fahrenheit)\n",
    "    return information\n",
    "\n",
    "information1 = ask_for_temperature_input()\n",
    "information2 = ask_for_temperature_input()\n",
    "print information1\n",
    "print information2"
   ]
  },
  {
   "cell_type": "markdown",
   "metadata": {},
   "source": [
    "<b>Task 1:</b> Write a function that accepts three values and returns the largest value. Print that value. <br>Call the function with three values of your choice. <br>\n",
    "A tip is to define two functions, one that finds the max of two. And one that finds the max of three. "
   ]
  },
  {
   "cell_type": "code",
   "execution_count": null,
   "metadata": {},
   "outputs": [],
   "source": [
    "# Insert code here\n"
   ]
  },
  {
   "cell_type": "markdown",
   "metadata": {},
   "source": [
    "<b>Task 2:</b> Write a function that accepts a string and returns the string in reverse order. <br>\n",
    "You will have to use a while loop and access each character of the string with `string[index]`."
   ]
  },
  {
   "cell_type": "code",
   "execution_count": 8,
   "metadata": {},
   "outputs": [],
   "source": [
    "# Insert code here\n"
   ]
  },
  {
   "cell_type": "markdown",
   "metadata": {},
   "source": [
    "<b>Task 3:</b> One of the most important skills to have when programming is the ability to find information.<br> \n",
    "Write a function that takes a string of words. The function should count the number of uppercase characters and lowercase characters <br>\n",
    "You will need to utilize two of the built-in functions for strings in Python. You can find the documentation here:<br>\n",
    "https://docs.python.org/2/library/stdtypes.html#string-methods <br>\n",
    "Can you figure out what you might need?<br>"
   ]
  },
  {
   "cell_type": "code",
   "execution_count": 9,
   "metadata": {},
   "outputs": [],
   "source": [
    "#Insert code here\n"
   ]
  }
 ],
 "metadata": {
  "kernelspec": {
   "display_name": "Python 2",
   "language": "python",
   "name": "python2"
  },
  "language_info": {
   "codemirror_mode": {
    "name": "ipython",
    "version": 2
   },
   "file_extension": ".py",
   "mimetype": "text/x-python",
   "name": "python",
   "nbconvert_exporter": "python",
   "pygments_lexer": "ipython2",
   "version": "2.7.14"
  }
 },
 "nbformat": 4,
 "nbformat_minor": 2
}
