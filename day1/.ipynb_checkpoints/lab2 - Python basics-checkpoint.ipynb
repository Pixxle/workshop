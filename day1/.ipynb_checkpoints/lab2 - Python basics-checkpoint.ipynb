{
 "cells": [
  {
   "cell_type": "markdown",
   "metadata": {},
   "source": [
    "# Variables"
   ]
  },
  {
   "cell_type": "markdown",
   "metadata": {},
   "source": [
    "In Python, and when programming in general, we need to build systems for dealing with data that changes over time. That data could be the location of a plane, or the time of day, or the television show you're currently watching. The only important thing is that it may be different at different times. Python uses variables to define things that are subject to change."
   ]
  },
  {
   "cell_type": "code",
   "execution_count": null,
   "metadata": {},
   "outputs": [],
   "source": [
    "greeting_message = \"Hello Python!\"\n",
    "current_excercise = 5"
   ]
  },
  {
   "cell_type": "markdown",
   "metadata": {},
   "source": [
    "In the above example, we defined a variable called `greeting_message` and set it equal to the string \"Hello Python!\". It also defined a variable called `current_exercise` and set it equal to the number 5."
   ]
  },
  {
   "cell_type": "markdown",
   "metadata": {},
   "source": [
    "<b>Task 1:</b> \n",
    "Create a variable called `todays_date` and assign a value that will represent today's date to that variable. "
   ]
  },
  {
   "cell_type": "code",
   "execution_count": null,
   "metadata": {},
   "outputs": [],
   "source": [
    "#Insert your code here:\n"
   ]
  },
  {
   "cell_type": "markdown",
   "metadata": {},
   "source": [
    "# Arithmetic"
   ]
  },
  {
   "cell_type": "markdown",
   "metadata": {},
   "source": [
    "One thing computers are capable of doing exceptionally well is performing arithmetic. Addition, subtraction, multiplication, division, and other numeric calculations are easy to do in most programming languages, and Python is no exception. Some examples:"
   ]
  },
  {
   "cell_type": "code",
   "execution_count": null,
   "metadata": {},
   "outputs": [],
   "source": [
    "mirthful_addition = 12381 + 91817\n",
    "amazing_subtraction = 981 - 312\n",
    "trippy_multiplication = 38 * 902\n",
    "happy_division = 540 / 45\n",
    "sassy_combinations = 129 * 1345 + 120 / 6 - 12"
   ]
  },
  {
   "cell_type": "markdown",
   "metadata": {},
   "source": [
    "Above are a number of arithmetic operations, each assigned to a variable. The variable will hold the final result of each operation. Combinations of arithmetical operators follow the usual order of operations."
   ]
  },
  {
   "cell_type": "markdown",
   "metadata": {},
   "source": [
    "Python also offers a companion to division called the modulo operator. The modulo operator is indicated by % and returns the remainder after division is performed."
   ]
  },
  {
   "cell_type": "code",
   "execution_count": null,
   "metadata": {},
   "outputs": [],
   "source": [
    "is_this_number_odd = 15 % 2\n",
    "is_this_number_divisible_by_seven = 133 % 7"
   ]
  },
  {
   "cell_type": "markdown",
   "metadata": {},
   "source": [
    "In the above code block, we use the modulo operator to find the remainder of 15 divided by 2. Since 15 is an odd number the remainder is 1."
   ]
  },
  {
   "cell_type": "markdown",
   "metadata": {},
   "source": [
    "We also check the remainder of 133 / 7. Since 133 divided by 7 has no remainder, 133 % 7 evaluates to 0."
   ]
  },
  {
   "cell_type": "markdown",
   "metadata": {},
   "source": [
    "<b>Task 2:</b>\n",
    "Multiply two numbers together and assign the result to a variable called `product`.\n",
    "Print the content of product"
   ]
  },
  {
   "cell_type": "code",
   "execution_count": null,
   "metadata": {},
   "outputs": [],
   "source": [
    "#Insert your code here:\n"
   ]
  },
  {
   "cell_type": "markdown",
   "metadata": {},
   "source": [
    "# Updating Variables"
   ]
  },
  {
   "cell_type": "markdown",
   "metadata": {},
   "source": [
    "Changing the contents of a variable is one of the essential operations. As the flow of a program progresses, data should be updated to reflect changes that have happened."
   ]
  },
  {
   "cell_type": "code",
   "execution_count": null,
   "metadata": {},
   "outputs": [],
   "source": [
    "fish_in_clarks_pond = 50\n",
    "\n",
    "print \"Catching fish\"\n",
    "\n",
    "number_of_fish_caught = 10\n",
    "fish_in_clarks_pond = fish_in_clarks_pond - number_of_fish_caught"
   ]
  },
  {
   "cell_type": "markdown",
   "metadata": {},
   "source": [
    "In the above example, we start with 50 fish in a local pond. After catching 10 fish, we update the number of fish in the pond to be the original number of fish in the pond minus the number of fish caught. At the end of this code block, the variable `fish_in_clarks_pond` is equal to 40."
   ]
  },
  {
   "cell_type": "markdown",
   "metadata": {},
   "source": [
    "Updating a variable by adding or subtracting a number to the original contents of the variable has its own shorthand to make it faster and easier to read."
   ]
  },
  {
   "cell_type": "code",
   "execution_count": null,
   "metadata": {},
   "outputs": [],
   "source": [
    "money_in_wallet = 40\n",
    "sandwich_price = 7.50\n",
    "sales_tax = .08 * sandwich_price\n",
    "\n",
    "sandwich_price += sales_tax\n",
    "money_in_wallet -= sandwich_price"
   ]
  },
  {
   "cell_type": "markdown",
   "metadata": {},
   "source": [
    "In the above example, we use the price of a sandwich to calculate sales tax. After calculating the tax we add it to the total price of the sandwich. Finally, we complete the transaction by reducing our money_in_wallet by the cost of the sandwich (with tax)."
   ]
  },
  {
   "cell_type": "markdown",
   "metadata": {},
   "source": [
    "<b>Task 3:</b> We're trying to figure out how much it rained in the past year! Update the `annual_rainfall` variable to include the values from Septer to December"
   ]
  },
  {
   "cell_type": "code",
   "execution_count": null,
   "metadata": {},
   "outputs": [],
   "source": [
    "january_to_june_rainfall = 1.93 + 0.71 + 3.53 + 3.41 + 3.69 + 4.50\n",
    "annual_rainfall = january_to_june_rainfall\n",
    "\n",
    "july_rainfall = 1.05\n",
    "annual_rainfall += july_rainfall\n",
    "\n",
    "august_rainfall = 4.91\n",
    "annual_rainfall += august_rainfall\n",
    "\n",
    "september_rainfall = 5.16\n",
    "october_rainfall = 7.20\n",
    "november_rainfall = 5.06\n",
    "december_rainfall = 4.06\n",
    "\n",
    "print annual_rainfall"
   ]
  },
  {
   "cell_type": "markdown",
   "metadata": {},
   "source": [
    "# Comments"
   ]
  },
  {
   "cell_type": "markdown",
   "metadata": {},
   "source": [
    "Most of the time, code should be written in such a way that it is easy to understand on its own. However, if you want to include a piece of information to explain a part of your code, you can use the `#` sign. A line of text preceded by a `#` is called a comment. The machine does not run this code — it is only for humans to read. When you look back at your code later, comments may help you figure out what it was intended to do."
   ]
  },
  {
   "cell_type": "code",
   "execution_count": null,
   "metadata": {},
   "outputs": [],
   "source": [
    "# this variable counts how many rows of the spreadsheet we have:\n",
    "row_count = 13"
   ]
  },
  {
   "cell_type": "markdown",
   "metadata": {},
   "source": [
    "<b>Task 4:</b>\n",
    "Add a comment above the declaration of `city_pop` with a description of what you think the variable contains."
   ]
  },
  {
   "cell_type": "code",
   "execution_count": null,
   "metadata": {},
   "outputs": [],
   "source": [
    "city_name = \"St. Potatosburg\"\n",
    "\n",
    "city_pop = 340000"
   ]
  },
  {
   "cell_type": "markdown",
   "metadata": {},
   "source": [
    "# Numbers"
   ]
  },
  {
   "cell_type": "markdown",
   "metadata": {},
   "source": [
    "Variables can also hold numeric values. The simplest kind of number in Python is the integer, which is a whole number with no decimal point:"
   ]
  },
  {
   "cell_type": "code",
   "execution_count": null,
   "metadata": {},
   "outputs": [],
   "source": [
    "int1 = 1\n",
    "int2 = 10\n",
    "int3 = -5"
   ]
  },
  {
   "cell_type": "markdown",
   "metadata": {},
   "source": [
    "A number with a decimal point is called a float. You can define floats with numbers after the decimal point or by just including a decimal point at the end:"
   ]
  },
  {
   "cell_type": "code",
   "execution_count": null,
   "metadata": {},
   "outputs": [],
   "source": [
    "float1 = 1.0\n",
    "float2 = 10.\n",
    "float3 = -5.5"
   ]
  },
  {
   "cell_type": "markdown",
   "metadata": {},
   "source": [
    "You can also define a float using scientific notation, with e indicating the power of 10:"
   ]
  },
  {
   "cell_type": "code",
   "execution_count": null,
   "metadata": {},
   "outputs": [],
   "source": [
    "# this evaluates to 150:\n",
    "float4 = 1.5e2"
   ]
  },
  {
   "cell_type": "markdown",
   "metadata": {},
   "source": [
    "<b>Task4 :</b>\n",
    "You are going shopping. Let's make a grocery list so that you can plan your budget.\n",
    "\n",
    "Store the number of cucumbers you want to buy in a variable called `cucumbers`. Make sure it's at least 1, and that it's the appropriate datatype! The store doesn't sell partial cucumbers.\n",
    "\n",
    "<b>Task 5:</b>\n",
    "Each cucumber costs 3.25 doubloons. Store the price per cucumber in a variable called `price_per_cucumber`.\n",
    "\n",
    "<b>Task 6</b>\n",
    "Create a new variable called `total_cost` which is the product of how many cucumbers you are going to buy and the cost per cucumber.\n",
    "\n",
    "<b>Task 7</b>\n",
    "Print out `total_cost`.\n",
    "What datatype is it? Write answer in a comment"
   ]
  },
  {
   "cell_type": "code",
   "execution_count": null,
   "metadata": {},
   "outputs": [],
   "source": [
    "# Insert your code here\n"
   ]
  },
  {
   "cell_type": "markdown",
   "metadata": {},
   "source": [
    "# Two types of Division"
   ]
  },
  {
   "cell_type": "markdown",
   "metadata": {},
   "source": [
    "In Python 2, when we divide two integers, we get an integer as a result. When the quotient is a whole number, this works fine:"
   ]
  },
  {
   "cell_type": "code",
   "execution_count": null,
   "metadata": {},
   "outputs": [],
   "source": [
    "quotient = 6/2\n",
    "# the value of quotient is now 3, which makes sense"
   ]
  },
  {
   "cell_type": "markdown",
   "metadata": {},
   "source": [
    "However, if the numbers do not divide evenly, the result of the division is truncated into an integer. In other words, the quotient is rounded down to a whole number. This can be surprising when you expect to receive a decimal and you receive a rounded-down integer:"
   ]
  },
  {
   "cell_type": "code",
   "execution_count": null,
   "metadata": {},
   "outputs": [],
   "source": [
    "quotient = 7/2\n",
    "# the value of quotient is 3, even though the result of the division here is 3.5"
   ]
  },
  {
   "cell_type": "markdown",
   "metadata": {},
   "source": [
    "To yield a float as the result instead, programmers often change either the numerator or the denominator (or both) to be a float:"
   ]
  },
  {
   "cell_type": "code",
   "execution_count": 1,
   "metadata": {},
   "outputs": [],
   "source": [
    "quotient1 = 7./2\n",
    "# the value of quotient1 is 3.5\n",
    "quotient2 = 7/2.\n",
    "# the value of quotient2 is 3.5\n",
    "quotient3 = 7./2.\n",
    "# the value of quotient3 is 3.5"
   ]
  },
  {
   "cell_type": "markdown",
   "metadata": {},
   "source": [
    "An alternative way is to use the float() method:"
   ]
  },
  {
   "cell_type": "code",
   "execution_count": 1,
   "metadata": {},
   "outputs": [],
   "source": [
    "quotient1 = float(7)/2 \n",
    "# the value of quotient1 is 3.5"
   ]
  },
  {
   "cell_type": "markdown",
   "metadata": {},
   "source": [
    "<b>Task 8:</b> You have come home from the grocery store with 100 cucumbers to split amongst yourself and your 5 roommates (6 people total).\n",
    "\n",
    "Create a variable `cucumbers` that holds `100` and `num_people` that holds `6`.\n",
    "\n",
    "<b>Task 9:</b>\n",
    "Create a variable called `whole_cucumbers_per_person` that is the integer result of dividing cucumbers by `num_people`.\n",
    "\n",
    "Print `whole_cucumbers_per_person` to the console."
   ]
  },
  {
   "cell_type": "code",
   "execution_count": null,
   "metadata": {},
   "outputs": [],
   "source": [
    "#Insert your code here\n"
   ]
  },
  {
   "cell_type": "markdown",
   "metadata": {},
   "source": [
    "<b>Task 10:</b>\n",
    "You realize that the numbers don't divide evenly and you don't want to throw out the remaining cucumbers. Create a variable called `float_cucumbers_per_person` that holds the float result of dividing cucumbers by `num_people`.\n",
    "\n",
    "Print `float_cucumbers_per_person` to the console."
   ]
  },
  {
   "cell_type": "code",
   "execution_count": null,
   "metadata": {},
   "outputs": [],
   "source": [
    "# Insert code here\n"
   ]
  },
  {
   "cell_type": "markdown",
   "metadata": {},
   "source": [
    "# Multi-line strings\n",
    "We have seen how to define a string with single quotes and with double quotes. If we want a string to span multiple lines, we can also use triple quotes:"
   ]
  },
  {
   "cell_type": "code",
   "execution_count": null,
   "metadata": {},
   "outputs": [],
   "source": [
    "address_string = \"\"\"136 Whowho Rd\n",
    "Apt 7\n",
    "Whosville, WZ 44494\"\"\"\n",
    "print address_string"
   ]
  },
  {
   "cell_type": "markdown",
   "metadata": {},
   "source": [
    "# Booleans"
   ]
  },
  {
   "cell_type": "markdown",
   "metadata": {},
   "source": [
    "Sometimes we have a need for variables that are either true or false. This datatype, which can only ever take one of two values, is called a boolean. In Python, we define booleans using the keywords True and False:"
   ]
  },
  {
   "cell_type": "code",
   "execution_count": null,
   "metadata": {},
   "outputs": [],
   "source": [
    "a = True\n",
    "b = False"
   ]
  },
  {
   "cell_type": "markdown",
   "metadata": {},
   "source": [
    "A boolean is actually a special case of an integer. A value of True corresponds to an integer value of 1, and will behave the same. A value of False corresponds to an integer value of 0."
   ]
  },
  {
   "cell_type": "markdown",
   "metadata": {},
   "source": [
    "# Built-in functions"
   ]
  },
  {
   "cell_type": "markdown",
   "metadata": {},
   "source": [
    "Instead of having to write all the code yourself python comes with a bunch of built-in functions for things people often do. Some of the built-in functions included are str(), int(), float() which we are going to explore more. To see a list of built-in functions go to: https://docs.python.org/2/library/functions.html"
   ]
  },
  {
   "cell_type": "markdown",
   "metadata": {},
   "source": [
    "Start by trying to run the following code:"
   ]
  },
  {
   "cell_type": "code",
   "execution_count": null,
   "metadata": {},
   "outputs": [],
   "source": [
    "print \"hello \" + 3"
   ]
  },
  {
   "cell_type": "markdown",
   "metadata": {},
   "source": [
    "As you see above you encounter the following error:<br>\n",
    "    `TypeError: cannot concatenate 'str' and 'int' objects`<br>\n",
    "The reason you receive this error is because the computer does not understand what you are trying to do. Instead of Python making assumptions on what you want to do it crashes out and explicitly tells you that this is operation not allowed.\n",
    "\n",
    "To fix this problem we can utilise the built-in function str():"
   ]
  },
  {
   "cell_type": "code",
   "execution_count": null,
   "metadata": {},
   "outputs": [],
   "source": [
    "print \"hello \" + str(3)"
   ]
  },
  {
   "cell_type": "markdown",
   "metadata": {},
   "source": [
    "And now the problem is resolved. "
   ]
  },
  {
   "cell_type": "markdown",
   "metadata": {},
   "source": [
    "The same way the str() function converts input to a string,\n",
    "the int() function converts input to a integer and \n",
    "the float() function converts input to a float."
   ]
  },
  {
   "cell_type": "markdown",
   "metadata": {},
   "source": [
    "<b>Task 11:</b>\n",
    "Correct the following code so that the output is correct"
   ]
  },
  {
   "cell_type": "code",
   "execution_count": null,
   "metadata": {},
   "outputs": [],
   "source": [
    "#Correct the following code:\n",
    "banana_price=\"10\"\n",
    "budget=100\n",
    "\n",
    "amount_of_bananas = budget / banana_price\n",
    "print \"We could afford \" + amount_of_bananas + \" nr of bananas\"\n"
   ]
  }
 ],
 "metadata": {
  "kernelspec": {
   "display_name": "Python 2",
   "language": "python",
   "name": "python2"
  },
  "language_info": {
   "codemirror_mode": {
    "name": "ipython",
    "version": 2
   },
   "file_extension": ".py",
   "mimetype": "text/x-python",
   "name": "python",
   "nbconvert_exporter": "python",
   "pygments_lexer": "ipython2",
   "version": "2.7.14"
  }
 },
 "nbformat": 4,
 "nbformat_minor": 2
}
