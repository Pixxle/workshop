{
 "cells": [
  {
   "cell_type": "markdown",
   "metadata": {},
   "source": [
    "# User input"
   ]
  },
  {
   "cell_type": "markdown",
   "metadata": {},
   "source": [
    "So far we've been dealing with very static programs, programs where the input and output never changes. In most cases we actually want to perform different things depending on what the user wants to do. A good way to figure out what the user wants to do is to ask them. Just as before where we utilized the built-in functions str(), int() and float() we can also utilize the built-in function raw_input() to ask the user for information.<br>\n",
    "<br>\n",
    "Look and run the example below: "
   ]
  },
  {
   "cell_type": "code",
   "execution_count": null,
   "metadata": {},
   "outputs": [],
   "source": [
    "my_name = raw_input(\"What is your name? \")\n",
    "print \"Hello \"+ my_name"
   ]
  },
  {
   "cell_type": "markdown",
   "metadata": {},
   "source": [
    "<b>Task 1:</b>\n",
    "Write some code that asks the user for name and store that in a variable called `my_name`<br>\n",
    "Ask the user for their age and store it in a variable called `my_age`<br>\n",
    "Print a message to the user telling them what their namn and age are."
   ]
  },
  {
   "cell_type": "code",
   "execution_count": null,
   "metadata": {},
   "outputs": [],
   "source": [
    "#Insert code here\n"
   ]
  },
  {
   "cell_type": "markdown",
   "metadata": {},
   "source": [
    "# Length\n"
   ]
  },
  {
   "cell_type": "markdown",
   "metadata": {},
   "source": [
    "Sometimes we are not only interested in what information the user gives us. But also the length of that information. For this we can use another of the built-in functions in python; len()"
   ]
  },
  {
   "cell_type": "code",
   "execution_count": null,
   "metadata": {},
   "outputs": [],
   "source": [
    "print len(\"Dennis\")"
   ]
  },
  {
   "cell_type": "markdown",
   "metadata": {},
   "source": [
    "<b>Task 2:</b>\n",
    "Write some code that asks the user for their name and store that in a variable called `my_name`<br>\n",
    "Save the length of the users name to a variable called `my_name_length`<br>\n",
    "Print a message to the user telling them what their name is and how many characters are in that name."
   ]
  },
  {
   "cell_type": "code",
   "execution_count": null,
   "metadata": {},
   "outputs": [],
   "source": [
    "#Insert your code here\n"
   ]
  },
  {
   "cell_type": "markdown",
   "metadata": {},
   "source": [
    "<b>Task 3:</b> Ask the user for their name and store that in a variable called `my_name`. <br>\n",
    "Print the third character of the name with the access index operation: `my_name[Number]`."
   ]
  },
  {
   "cell_type": "code",
   "execution_count": 3,
   "metadata": {},
   "outputs": [],
   "source": [
    "#Insert you code here\n"
   ]
  },
  {
   "cell_type": "markdown",
   "metadata": {},
   "source": [
    "Did you manage to get the program to write the third character? If you wrote the program like this:<br>\n",
    "`print my_name[3]`\n",
    "You might've noticed that the program actually printed the fourth character and not the third. That is simply because in almost all programming languages the computer starts counting at 0 and not 1"
   ]
  }
 ],
 "metadata": {
  "kernelspec": {
   "display_name": "Python 2",
   "language": "python",
   "name": "python2"
  },
  "language_info": {
   "codemirror_mode": {
    "name": "ipython",
    "version": 2
   },
   "file_extension": ".py",
   "mimetype": "text/x-python",
   "name": "python",
   "nbconvert_exporter": "python",
   "pygments_lexer": "ipython2",
   "version": "2.7.14"
  }
 },
 "nbformat": 4,
 "nbformat_minor": 2
}
