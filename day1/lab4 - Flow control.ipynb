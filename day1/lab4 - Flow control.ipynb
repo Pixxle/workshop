{
 "cells": [
  {
   "cell_type": "markdown",
   "metadata": {},
   "source": [
    "# Control flow"
   ]
  },
  {
   "cell_type": "markdown",
   "metadata": {},
   "source": [
    "Programs would become rather dull if the only thing they could do was to take user input and print results, luckily for us they can do so much more. In all programming there are essentially 3 types of Control flows:\n",
    "* Primitives\n",
    "* Choices\n",
    "* Loops\n"
   ]
  },
  {
   "cell_type": "markdown",
   "metadata": {},
   "source": [
    "Primitives are what we've been working with so far; variable assignments. <br>\n",
    "Choices, as the name implies, tells the program to do something if a condition is met\n",
    "<br>\n",
    "And loops are the final key to the computer puzzle that run our world<br>\n",
    "Loops tells the program to repeat something until a condition is met.<br>\n",
    "In this chapter we will look closer at final two control flows.<br>"
   ]
  },
  {
   "cell_type": "markdown",
   "metadata": {},
   "source": [
    "## Choices"
   ]
  },
  {
   "cell_type": "markdown",
   "metadata": {},
   "source": [
    "<b>Example of choices:</b>\n",
    "![alt text](https://www.tutorialspoint.com/python/images/if_else_statement.jpg \"Logo If else\")"
   ]
  },
  {
   "cell_type": "markdown",
   "metadata": {},
   "source": [
    "The typical conditional statement always starts with a `if` statement. After the `if` statement follows a expression that the program tries to validate. Example:"
   ]
  },
  {
   "cell_type": "code",
   "execution_count": null,
   "metadata": {},
   "outputs": [],
   "source": [
    "this_is_true = True\n",
    "if this_is_true:\n",
    "    print \"The condition was True\""
   ]
  },
  {
   "cell_type": "markdown",
   "metadata": {},
   "source": [
    "Previously when we assigned something to a variable we used the syntax <br>`variable=value`.<br>\n",
    "When we want to validate a statement we instead use the `==` syntax. <br>\n",
    "Example:"
   ]
  },
  {
   "cell_type": "code",
   "execution_count": null,
   "metadata": {},
   "outputs": [],
   "source": [
    "a = 10\n",
    "b = 10\n",
    "if a == b:\n",
    "    print \"A and B is the same\""
   ]
  },
  {
   "cell_type": "markdown",
   "metadata": {},
   "source": [
    "List of conditionals:\n",
    "* A equals B `A == B`\n",
    "* A not equal B `A != B`\n",
    "* A less than B `A < B`\n",
    "* A less than or equal B `A <= B`\n",
    "* A greater than B `A > B`\n",
    "* A greater than or equal B `A >= B`\n",
    "* A in B `A in B `"
   ]
  },
  {
   "cell_type": "markdown",
   "metadata": {},
   "source": [
    "The powerful `if` statement comes with a few more additions though that makes it even more awesome. You can chain conditional `if` statements together with something called an else if (written `elif`). If the first `if` statement is not `True`, then it will continue checking down the line of `elif`. <br>\n",
    "Example:"
   ]
  },
  {
   "cell_type": "code",
   "execution_count": null,
   "metadata": {},
   "outputs": [],
   "source": [
    "small_number = 5\n",
    "large_number = 10\n",
    "if small_number == large_number:\n",
    "    print \"How can a small and large number be the same?\"\n",
    "elif small_number > large_number:\n",
    "    print \"Strange.. The small number is bigger than the large number\"\n",
    "elif small_number < large_number:\n",
    "    print \"This looks correct to me, the small number is less than the large\""
   ]
  },
  {
   "cell_type": "markdown",
   "metadata": {},
   "source": [
    "But wait.. I can see a potential flaw with this design. This would mean that we would have to continue writing a check for every single scenario imaginable. <br> That's going to take forever for us to write.<br>\n",
    "\n",
    "Luckily enough there is a third tool available for us using `if`statements. The mighty `else` clause. <br>\n",
    "The `else` clause differs from `if` and `elif` in that it does not take any statements. It will only run if no previous statement was `True`"
   ]
  },
  {
   "cell_type": "code",
   "execution_count": null,
   "metadata": {},
   "outputs": [],
   "source": [
    "small_number = 5\n",
    "large_number = 5\n",
    "if small_number > large_number:\n",
    "    print \"Strange.. The small number is bigger than the large number\"\n",
    "elif small_number < large_number:\n",
    "    print \"This looks correct to me, the small number is less than the large\"\n",
    "else:\n",
    "    print \"The numbers must be the same if this was printed.\""
   ]
  },
  {
   "cell_type": "markdown",
   "metadata": {},
   "source": [
    "<b> Task 1: </b> Write a small program that asks the user what their age is. Collect that input and store it in a variable. Print three different outputs of your choice if the input is more than or equal to 100, less than 20, any other value. "
   ]
  },
  {
   "cell_type": "code",
   "execution_count": null,
   "metadata": {},
   "outputs": [],
   "source": [
    "#Insert code here\n"
   ]
  },
  {
   "cell_type": "markdown",
   "metadata": {},
   "source": [
    "<b>Task 2:</b> Write a small program that asks the user for input, if the input contains the word apple, print a output telling the user what you found"
   ]
  },
  {
   "cell_type": "code",
   "execution_count": null,
   "metadata": {},
   "outputs": [],
   "source": [
    "#Insert code here\n"
   ]
  },
  {
   "cell_type": "markdown",
   "metadata": {},
   "source": [
    "# Loops"
   ]
  },
  {
   "cell_type": "markdown",
   "metadata": {},
   "source": [
    "<b>Example of Loops:</b>\n",
    "![alt text](https://www.tutorialspoint.com/computer_programming/images/loop_architecture.jpg \"Logo If else\")"
   ]
  },
  {
   "cell_type": "markdown",
   "metadata": {},
   "source": [
    "Let's consider a situation when you want to print Hello, World! five times. Here is a simple program to do the same − <br><i>Try running it:</i>"
   ]
  },
  {
   "cell_type": "code",
   "execution_count": null,
   "metadata": {},
   "outputs": [],
   "source": [
    "print(\"Hello, World!\")\n",
    "print(\"Hello, World!\")\n",
    "print(\"Hello, World!\")\n",
    "print(\"Hello, World!\")\n",
    "print(\"Hello, World!\")"
   ]
  },
  {
   "cell_type": "markdown",
   "metadata": {},
   "source": [
    "It was simple, but again, let's consider another situation when you want to write Hello, World! a thousand times. We can certainly not write print() statements a thousand times. Almost all the programming languages provide a concept called loop, which helps in executing one or more statements up to a desired number of times. All high-level programming languages provide various forms of loops, which can be used to execute one or more statements repeatedly.\n",
    "\n",
    "Let's write the above program with the help of a while loop and later, we will discuss how this loop works.<br><i>Try running it:</i>"
   ]
  },
  {
   "cell_type": "markdown",
   "metadata": {},
   "source": [
    "## `for` loop"
   ]
  },
  {
   "cell_type": "code",
   "execution_count": null,
   "metadata": {},
   "outputs": [],
   "source": [
    "for i in range(0,5):\n",
    "    print(\"Hello, World!\")"
   ]
  },
  {
   "cell_type": "markdown",
   "metadata": {},
   "source": [
    "This is called a `for` loop. A `for` loop is used for iterating over a sequence. <br>\n",
    "A sequence is a list, a tuple, a dictionary, a set or a string.<br>\n",
    "If we examine the `range(0,5)` part of our previous program with the following code: "
   ]
  },
  {
   "cell_type": "code",
   "execution_count": 1,
   "metadata": {},
   "outputs": [
    {
     "name": "stdout",
     "output_type": "stream",
     "text": [
      "[0, 1, 2, 3, 4]\n",
      "<type 'list'>\n"
     ]
    }
   ],
   "source": [
    "print range(0,5)\n",
    "print type(range(0,5))"
   ]
  },
  {
   "cell_type": "markdown",
   "metadata": {},
   "source": [
    "We can see that the built-in function range is creating a `list` starting at the first value of the range and ending and the last value of the range."
   ]
  },
  {
   "cell_type": "markdown",
   "metadata": {},
   "source": [
    "But a `list` does not have to be a a bunch of numbers. A `list` can contain values of many different types. Example:"
   ]
  },
  {
   "cell_type": "code",
   "execution_count": null,
   "metadata": {},
   "outputs": [],
   "source": [
    "fruits = [\"apple\", \"banana\", \"cherry\"]\n",
    "for x in fruits:\n",
    "    print(x)"
   ]
  },
  {
   "cell_type": "markdown",
   "metadata": {},
   "source": [
    "## `while` loop"
   ]
  },
  {
   "cell_type": "markdown",
   "metadata": {},
   "source": [
    "The other type of loop in python is called a `while` loop and it differs fundementaly from the `for` loop. The `for` loop iterates over a sequence, and the `while` Loop iterates as long as a statement is still `True`. Example:"
   ]
  },
  {
   "cell_type": "code",
   "execution_count": null,
   "metadata": {
    "scrolled": false
   },
   "outputs": [],
   "source": [
    "#Print i as long as i is less than 6:\n",
    "i = 1\n",
    "while i < 6:\n",
    "    print(i)\n",
    "    i += 1"
   ]
  },
  {
   "cell_type": "markdown",
   "metadata": {},
   "source": [
    "## Break statement"
   ]
  },
  {
   "cell_type": "markdown",
   "metadata": {},
   "source": [
    "With the `break` statement we can stop the loop before it has looped through all the items, this is good for when we've found the thing we are looking for and dont want to continue processing:"
   ]
  },
  {
   "cell_type": "code",
   "execution_count": null,
   "metadata": {},
   "outputs": [],
   "source": [
    "fruits = [\"apple\", \"banana\", \"cherry\"]\n",
    "for x in fruits:\n",
    "  print(x) \n",
    "  if x == \"banana\":\n",
    "    break"
   ]
  },
  {
   "cell_type": "markdown",
   "metadata": {},
   "source": [
    "## Continue statement"
   ]
  },
  {
   "cell_type": "markdown",
   "metadata": {},
   "source": [
    "With the `continue` statement we can stop the current iteration of the loop, and continue with the next:"
   ]
  },
  {
   "cell_type": "code",
   "execution_count": null,
   "metadata": {},
   "outputs": [],
   "source": [
    "fruits = [\"apple\", \"banana\", \"cherry\"]\n",
    "for x in fruits:\n",
    "  if x == \"banana\":\n",
    "    continue\n",
    "  print(x)"
   ]
  },
  {
   "cell_type": "markdown",
   "metadata": {},
   "source": [
    "## Nested Loops"
   ]
  },
  {
   "cell_type": "markdown",
   "metadata": {},
   "source": [
    "A nested loop is a loop inside a loop.\n",
    "\n",
    "The \"inner loop\" will be executed one time for each iteration of the \"outer loop\":"
   ]
  },
  {
   "cell_type": "code",
   "execution_count": null,
   "metadata": {},
   "outputs": [],
   "source": [
    "adj = [\"red\", \"big\", \"tasty\"]\n",
    "fruits = [\"apple\", \"banana\", \"cherry\"]\n",
    "\n",
    "for x in adj:\n",
    "  for y in fruits:\n",
    "    print x + \" \" + y"
   ]
  },
  {
   "cell_type": "markdown",
   "metadata": {},
   "source": [
    "<b>Task 3:</b>\n",
    "Create a `while` loop.\n",
    "Print `i` as long as `i` is less than 11.\n",
    "Add 1 to `i` each loop iteration. "
   ]
  },
  {
   "cell_type": "code",
   "execution_count": 12,
   "metadata": {},
   "outputs": [],
   "source": [
    "#Insert code here\n"
   ]
  },
  {
   "cell_type": "markdown",
   "metadata": {},
   "source": [
    "<b>Task 4:</b>\n",
    "Create a loop iterating to 10, `break` out of the the loop when `i` reaches 3. Add 1 to `i` each loop iteration."
   ]
  },
  {
   "cell_type": "code",
   "execution_count": null,
   "metadata": {},
   "outputs": [],
   "source": [
    "#Insert code here\n"
   ]
  },
  {
   "cell_type": "markdown",
   "metadata": {},
   "source": [
    "<b>Task 5:</b> Loop through the items in the fruits list. Print each element in the list"
   ]
  },
  {
   "cell_type": "code",
   "execution_count": null,
   "metadata": {},
   "outputs": [],
   "source": [
    "fruits = [\"apple\", \"banana\", \"cherry\"]\n",
    "#Insert code here\n"
   ]
  },
  {
   "cell_type": "markdown",
   "metadata": {},
   "source": [
    "<b> Task 6: </b>Loop over the elements in fruits, if the current element is banana, continue to the next. In all other scenarios print the fruit"
   ]
  },
  {
   "cell_type": "code",
   "execution_count": 14,
   "metadata": {},
   "outputs": [],
   "source": [
    "fruits = [\"apple\", \"banana\", \"cherry\"]\n",
    "#Insert code here\n"
   ]
  }
 ],
 "metadata": {
  "kernelspec": {
   "display_name": "Python 2",
   "language": "python",
   "name": "python2"
  },
  "language_info": {
   "codemirror_mode": {
    "name": "ipython",
    "version": 2
   },
   "file_extension": ".py",
   "mimetype": "text/x-python",
   "name": "python",
   "nbconvert_exporter": "python",
   "pygments_lexer": "ipython2",
   "version": "2.7.14"
  }
 },
 "nbformat": 4,
 "nbformat_minor": 2
}
