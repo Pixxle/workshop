{
 "cells": [
  {
   "cell_type": "markdown",
   "metadata": {},
   "source": [
    "# Pattern matching with regular expressions"
   ]
  },
  {
   "cell_type": "markdown",
   "metadata": {},
   "source": [
    "You may be familiar with searching for text by pressing CTRL-F and typing in the words you’re looking for. Regular expressions go one step further: They allow you to specify a pattern of text to search for. You may not know a business’s exact email address, but you will know it will be one or more names, maybe some special characters between the name, followed by a at-symbol, and then a domain-name followed by a top-level domain (.com, .se). This is how you, as a human, know a email when you see it: dennis.hedlund@klarna.com is a email address, but dennis,hedlund!@klarna.not.valid is not.\n",
    "\n",
    "Regular expressions are helpful, but not many non-programmers know about them even though most modern text editors and word processors, such as Microsoft Word or OpenOffice, have find and find-and-replace features that can search based on regular expressions. Regular expressions are huge time-savers, not just for software users but also for programmers. In fact, tech writer Cory Doctorow argues that even before teaching programming, we should be teaching regular expressions:\n",
    "\n",
    ">“Knowing [regular expressions] can mean the difference between solving a problem in 3 steps and solving it in 3,000 steps. When you’re a nerd, you forget that the problems you solve with a couple keystrokes can take other people days of tedious, error-prone work to slog through.”[1]"
   ]
  },
  {
   "cell_type": "markdown",
   "metadata": {},
   "source": [
    "## Finding Patterns of Text Without Regular Expressions"
   ]
  },
  {
   "cell_type": "markdown",
   "metadata": {},
   "source": [
    "Say you want to find a phone number in a string. You know the pattern: three numbers, a hyphen, three numbers, a hyphen, and four numbers. Here’s an example: 415-555-4242.\n",
    "\n",
    "Let’s use a function named isPhoneNumber() to check whether a string matches this pattern, returning either True or False."
   ]
  },
  {
   "cell_type": "code",
   "execution_count": 5,
   "metadata": {},
   "outputs": [
    {
     "name": "stdout",
     "output_type": "stream",
     "text": [
      "415-555-4242 is a phone number:\n",
      "True\n",
      "Moshi moshi is a phone number:\n",
      "False\n"
     ]
    }
   ],
   "source": [
    "def isPhoneNumber(text):\n",
    "    if len(text) != 12:\n",
    "        return False\n",
    "    for i in range(0, 3):\n",
    "        if not text[i].isdigit():\n",
    "            return False\n",
    "    if text[3] != '-':\n",
    "        return False\n",
    "    for i in range(4, 7):\n",
    "        if not text[i].isdigit():\n",
    "            return False\n",
    "    if text[7] != '-':\n",
    "        return False\n",
    "    for i in range(8, 12):\n",
    "        if not text[i].isdigit():\n",
    "            return False\n",
    "    return True\n",
    "\n",
    "print('415-555-4242 is a phone number:')\n",
    "print(isPhoneNumber('415-555-4242'))\n",
    "print('Moshi moshi is a phone number:')\n",
    "print(isPhoneNumber('Moshi moshi'))"
   ]
  },
  {
   "cell_type": "markdown",
   "metadata": {},
   "source": [
    "The isPhoneNumber() function has code that does several checks to see whether the string in text is a valid phone number. If any of these checks fail, the function returns False. "
   ]
  },
  {
   "cell_type": "markdown",
   "metadata": {},
   "source": [
    "You would have to add even more code to find this pattern of text in a larger string. <br>Lets modify our code a little:"
   ]
  },
  {
   "cell_type": "code",
   "execution_count": 6,
   "metadata": {},
   "outputs": [
    {
     "name": "stdout",
     "output_type": "stream",
     "text": [
      "Phone number found: 415-555-1011\n",
      "Phone number found: 415-555-9999\n",
      "Done\n"
     ]
    }
   ],
   "source": [
    "def isPhoneNumber(text):\n",
    "    if len(text) != 12:\n",
    "        return False\n",
    "    for i in range(0, 3):\n",
    "        if not text[i].isdigit():\n",
    "            return False\n",
    "    if text[3] != '-':\n",
    "        return False\n",
    "    for i in range(4, 7):\n",
    "        if not text[i].isdigit():\n",
    "            return False\n",
    "    if text[7] != '-':\n",
    "        return False\n",
    "    for i in range(8, 12):\n",
    "        if not text[i].isdigit():\n",
    "            return False\n",
    "    return True\n",
    "\n",
    "message = 'Call me at 415-555-1011 tomorrow. 415-555-9999 is my office.'\n",
    "for i in range(len(message)):\n",
    "    chunk = message[i:i+12]\n",
    "    if isPhoneNumber(chunk):\n",
    "        print('Phone number found: ' + chunk)\n",
    "print('Done')"
   ]
  },
  {
   "cell_type": "markdown",
   "metadata": {},
   "source": [
    "On each iteration of the for loop, a new chunk of 12 characters from message is assigned to the variable chunk. We then run that chunk through the isPhoneNumber function to check if the part of chunk is a valid phone number.<br>\n",
    "\n",
    "While the string in message is short in this example, it could be millions of characters long and the program would still run in less than a second. A similar program that finds phone numbers using regular expressions would also run in less than a second, but regular expressions make it quicker to write these programs."
   ]
  },
  {
   "cell_type": "markdown",
   "metadata": {},
   "source": [
    "## Finding Patterns of Text with Regular Expressions"
   ]
  },
  {
   "cell_type": "markdown",
   "metadata": {},
   "source": [
    "The previous phone number–finding program works, but it uses a lot of code to do something limited: The isPhoneNumber() function is 17 lines but can find only one pattern of phone numbers. What about a phone number formatted like 415.555.4242 or (415) 555-4242? What if the phone number had an extension, like 415-555-4242 x99? The isPhoneNumber() function would fail to validate them. You could add yet more code for these additional patterns, but there is an easier way.\n",
    "\n",
    "Regular expressions, called regexes for short, are descriptions for a pattern of text. For example, a \\d in a regex stands for a digit character—that is, any single numeral 0 to 9. The regex \\d\\d\\d-\\d\\d\\d-\\d\\d\\d\\d is used by Python to match the same text the previous isPhoneNumber() function did: a string of three numbers, a hyphen, three more numbers, another hyphen, and four numbers. Any other string would not match the \\d\\d\\d-\\d\\d\\d-\\d\\d \\d\\d regex.\n",
    "\n",
    "But regular expressions can be much more sophisticated. For example, adding a 3 in curly brackets `{3}` after a pattern is like saying, “Match this pattern three times.” So the slightly shorter regex \\d{3}-\\d{3}-\\d{4} also matches the correct phone number format. <br>\n",
    "Example:"
   ]
  },
  {
   "cell_type": "code",
   "execution_count": 7,
   "metadata": {},
   "outputs": [
    {
     "name": "stdout",
     "output_type": "stream",
     "text": [
      "['415-555-1011', '415-555-9999']\n"
     ]
    }
   ],
   "source": [
    "import re\n",
    "def isPhoneNumber(text):\n",
    "    phoneNumRegex = re.compile(r'\\d{3}-\\d{3}-\\d{4}')\n",
    "    phoneNumbers = re.findall(phoneNumRegex, text)\n",
    "    return phoneNumbers\n",
    "\n",
    "message = 'Call me at 415-555-1011 tomorrow. 415-555-9999 is my office.'\n",
    "phoneNumbers = isPhoneNumber(message)\n",
    "print phoneNumbers"
   ]
  },
  {
   "cell_type": "markdown",
   "metadata": {},
   "source": [
    "## Creating Regex Objects"
   ]
  },
  {
   "cell_type": "markdown",
   "metadata": {},
   "source": [
    "All the regex functions in Python are in the re module. To be able to use this we first need to import it. We do that by calling `import re` at the top of our code."
   ]
  },
  {
   "cell_type": "markdown",
   "metadata": {},
   "source": [
    "Passing a string value representing your regular expression to re.compile() returns a Regex pattern object (or simply, a Regex object).\n",
    "\n",
    "To create a Regex object that matches the phone number pattern, let's create a regex object containing the pattern for the phone number:"
   ]
  },
  {
   "cell_type": "code",
   "execution_count": 10,
   "metadata": {},
   "outputs": [],
   "source": [
    "import re\n",
    "#In this example we define each single digit it should match\n",
    "phoneNumRegex = re.compile(r'\\d\\d\\d-\\d\\d\\d-\\d\\d\\d\\d') \n",
    "\n",
    "# In this example we tell the regexp to repeat the pattern {#} nr of times \n",
    "phoneNumRegex = re.compile(r'\\d{3}-\\d{3}-\\d{4}')"
   ]
  },
  {
   "cell_type": "markdown",
   "metadata": {},
   "source": [
    "Now the phoneNumRegex variable contains a Regex object.\n",
    "\n",
    "Escape characters in Python use the backslash (\\). The string value '\\n' represents a single newline character, not a backslash followed by a lowercase n. You need to enter the escape character \\\\ to print a single backslash. So '\\\\n' is the string that represents a backslash followed by a lowercase n. However, by putting an r before the first quote of the string value, you can mark the string as a raw string, which does not escape characters.\n",
    "\n",
    "Since regular expressions frequently use backslashes in them, it is convenient to pass raw strings to the re.compile() function instead of typing extra backslashes. Typing r'\\d\\d\\d-\\d\\d\\d-\\d\\d\\d\\d' is much easier than typing '\\\\\\d\\\\\\d\\\\\\d-\\\\\\d\\\\\\d\\\\\\d-\\\\\\d\\\\d\\\\\\d\\\\\\d'."
   ]
  },
  {
   "cell_type": "markdown",
   "metadata": {},
   "source": [
    "## Grouping with Parentheses"
   ]
  },
  {
   "cell_type": "markdown",
   "metadata": {},
   "source": [
    "Say you want to separate the area code from the rest of the phone number. Adding parentheses will create groups in the regex: (\\d\\d\\d)-(\\d\\d\\d-\\d\\d\\d\\d). Then you can use the group() match object method to grab the matching text from just one group.\n",
    "\n",
    "The first set of parentheses in a regex string will be group 1. The second set will be group 2. By passing the integer 1 or 2 to the group() match object method, you can grab different parts of the matched text. Passing 0 or nothing to the group() method will return the entire matched text. "
   ]
  },
  {
   "cell_type": "code",
   "execution_count": 11,
   "metadata": {},
   "outputs": [
    {
     "name": "stdout",
     "output_type": "stream",
     "text": [
      "415\n",
      "555-4242\n",
      "415-555-4242\n"
     ]
    }
   ],
   "source": [
    "phoneNumRegex = re.compile(r'(\\d\\d\\d)-(\\d\\d\\d-\\d\\d\\d\\d)')\n",
    "mo = phoneNumRegex.search('My number is 415-555-4242.')\n",
    "print mo.group(1)\n",
    "print mo.group(2)\n",
    "print mo.group(0)"
   ]
  },
  {
   "cell_type": "markdown",
   "metadata": {},
   "source": [
    "## Matching Multiple Groups with the Pipe"
   ]
  },
  {
   "cell_type": "markdown",
   "metadata": {},
   "source": [
    "The | character is called a pipe. You can use it anywhere you want to match one of many expressions. For example, the regular expression r'Batman|Tina Fey' will match either 'Batman' or 'Tina Fey'.\n",
    "\n",
    "When both Batman and Tina Fey occur in the searched string, the first occurrence of matching text will be returned as the Match object. <br>\n",
    "Example:"
   ]
  },
  {
   "cell_type": "code",
   "execution_count": 13,
   "metadata": {},
   "outputs": [
    {
     "name": "stdout",
     "output_type": "stream",
     "text": [
      "Batman\n",
      "Tina Fey\n"
     ]
    }
   ],
   "source": [
    "heroRegex = re.compile (r'Batman|Tina Fey')\n",
    "mo1 = heroRegex.search('Batman and Tina Fey.')\n",
    "print mo1.group()\n",
    "\n",
    "mo2 = heroRegex.search('Tina Fey and Batman.')\n",
    "print mo2.group()"
   ]
  },
  {
   "cell_type": "markdown",
   "metadata": {},
   "source": [
    "<b>NOTE</b><br>\n",
    "You can find all matching occurrences with the findall() method"
   ]
  },
  {
   "cell_type": "markdown",
   "metadata": {},
   "source": [
    "You can also use the pipe to match one of several patterns as part of your regex. For example, say you wanted to match any of the strings 'Batman', 'Batmobile', 'Batcopter', and 'Batbat'. Since all these strings start with Bat, it would be nice if you could specify that prefix only once. This can be done with parentheses. <br>\n",
    "Example:"
   ]
  },
  {
   "cell_type": "code",
   "execution_count": 15,
   "metadata": {},
   "outputs": [
    {
     "name": "stdout",
     "output_type": "stream",
     "text": [
      "Batmobile\n",
      "mobile\n"
     ]
    }
   ],
   "source": [
    "batRegex = re.compile(r'Bat(man|mobile|copter|bat)')\n",
    "mo = batRegex.search('Batmobile lost a wheel')\n",
    "print mo.group()\n",
    "print mo.group(1)"
   ]
  },
  {
   "cell_type": "markdown",
   "metadata": {},
   "source": [
    "The method call mo.group() returns the full matched text 'Batmobile', while mo.group(1) returns just the part of the matched text inside the first parentheses group, 'mobile'. By using the pipe character and grouping parentheses, you can specify several alternative patterns you would like your regex to match."
   ]
  },
  {
   "cell_type": "markdown",
   "metadata": {},
   "source": [
    "# Full list of regexp symbols available for matching"
   ]
  },
  {
   "cell_type": "markdown",
   "metadata": {},
   "source": [
    "* The ? matches zero or one of the preceding group.<br>\n",
    "    * Example: 'Bat(man)?' matches Bat and Batman\n",
    "\n",
    "* The * matches zero or more of the preceding group.<br>\n",
    "    * Example: 'Bat(man)*' matches Bat, Batman, Batmanman, Batmanmanman and so on.\n",
    "    \n",
    "* The + matches one or more of the preceding group.\n",
    "    * Example: 'Bat(man)+' matches Batman, Batmanman, Batmanmanman and so on, but not only Bat.\n",
    "\n",
    "* The {n} matches exactly n of the preceding group.\n",
    "    * Example: 'Bat(man){2}' matches Batmanman and nothing else.\n",
    "\n",
    "* The {n,} matches n or more of the preceding group.\n",
    "    * Example: 'Bat(man){2,}' matches Batmanman, Batmanmanman and so on. But not Bat or Batman.\n",
    "\n",
    "* The {,m} matches 0 to m of the preceding group.\n",
    "    * Example: 'Bat(man){,2}' matches Bat, Batman and Batmanman.\n",
    "\n",
    "* The {n,m} matches at least n and at most m of the preceding group.\n",
    "\n",
    "* {n,m}? or *? or +? performs a nongreedy match of the preceding group.\n",
    "\n",
    "* ^spam means the string must begin with spam.\n",
    "\n",
    "* spam$ means the string must end with spam.\n",
    "\n",
    "* The . matches any character, except newline characters.\n",
    "\n",
    "* \\d, \\w, and \\s match a digit, word, or space character, respectively.\n",
    "\n",
    "* \\D, \\W, and \\S match anything except a digit, word, or space character, respectively.\n",
    "\n",
    "* [abc] matches any character between the brackets (such as a, b, or c).\n",
    "    * You can define \"sets\" of characters: \n",
    "    * [a-z] matches lower case characters a to z\n",
    "    * [A-Z] matches upper case characters A to Z\n",
    "    * [0-9] matches digits 0 to 9 \n",
    "    * [a-zA-Z0-9] matches a to z, A to Z and 0 to 9. \n",
    "    * [\\\\\\/\\\\\\\\$] matches the special characters / and $. Dont forget to escape them with \\\n",
    "\n",
    "* [^abc] matches any character that isn’t between the brackets."
   ]
  },
  {
   "cell_type": "markdown",
   "metadata": {},
   "source": [
    "<b>Task 1:</b> Write a Python program to check that a string contains only a certain set of characters (in this case a-z, A-Z and 0-9). \n",
    "<br>You will need to use re.match() https://docs.python.org/2/library/re.html#re.match<br>\n",
    "Try validating string1 and string2.\n"
   ]
  },
  {
   "cell_type": "code",
   "execution_count": null,
   "metadata": {},
   "outputs": [],
   "source": [
    "import re\n",
    "string1 = \"Pneumonoultramicroscopicsilicovolcanoconiosis\"\n",
    "string2 = \"Hello World!\"\n",
    "#Insert code here\n"
   ]
  },
  {
   "cell_type": "markdown",
   "metadata": {},
   "source": [
    "<b> Task 2:</b> Write a python program that validations an email address.<br>\n",
    "A valid email address has four parts:\n",
    "* Recipient name\n",
    "    * Uppercase and lowercase letters in English (A-Z, a-z)\n",
    "    * Digits from 0 to 9\n",
    "    * One or more words separarted by . or -\n",
    "* @ symbol\n",
    "    * Must come after the recipient name\n",
    "* Domain name\n",
    "    * Uppercase and lowercase letters in English (A-Z, a-z)\n",
    "    * Digits from 0 to 9 \n",
    "    * A hyphen (-)\n",
    "    * A period (.)  (used to identify a sub-domain; for example,  email.domainsample)\n",
    "* Top-level domain ( Only match one of the following top level domains)\n",
    "    * .com\n",
    "    * .net\n",
    "    * .org\n",
    "    * .se\n",
    "    \n",
    "<br><b>Talk to your neighbor and try to solve this exercise, two heads are better than one</b> "
   ]
  },
  {
   "cell_type": "code",
   "execution_count": 18,
   "metadata": {},
   "outputs": [],
   "source": [
    "#Insert code here\n"
   ]
  },
  {
   "cell_type": "markdown",
   "metadata": {},
   "source": []
  }
 ],
 "metadata": {
  "kernelspec": {
   "display_name": "Python 2",
   "language": "python",
   "name": "python2"
  },
  "language_info": {
   "codemirror_mode": {
    "name": "ipython",
    "version": 2
   },
   "file_extension": ".py",
   "mimetype": "text/x-python",
   "name": "python",
   "nbconvert_exporter": "python",
   "pygments_lexer": "ipython2",
   "version": "2.7.14"
  }
 },
 "nbformat": 4,
 "nbformat_minor": 2
}
